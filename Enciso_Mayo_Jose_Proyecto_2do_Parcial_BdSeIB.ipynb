{
  "nbformat": 4,
  "nbformat_minor": 0,
  "metadata": {
    "colab": {
      "provenance": []
    },
    "kernelspec": {
      "name": "python3",
      "display_name": "Python 3"
    },
    "language_info": {
      "name": "python"
    }
  },
  "cells": [
    {
      "cell_type": "markdown",
      "source": [
        "## Distribución de carga de tareas en almacenes con restricciones."
      ],
      "metadata": {
        "id": "G0MO1bVbTiUZ"
      }
    },
    {
      "cell_type": "markdown",
      "source": [
        "Alumno: José Jesús Enciso Mayo.\n",
        "\n",
        "Búsqueda de soluciones e inferencia bayesiana.\n",
        "\n",
        "Licenciatura en inteligencia artificial, 4to semestre."
      ],
      "metadata": {
        "id": "u6IJMTFJT43u"
      }
    },
    {
      "cell_type": "markdown",
      "source": [
        "## Introducción:"
      ],
      "metadata": {
        "id": "8sKYalzW1g_c"
      }
    },
    {
      "cell_type": "markdown",
      "source": [
        "El problema de la distribución de tareas en almacenes se relaciona con problemas logísticos en la gestión de la cadena de suministro, en donde se busca asignar eficientemente tareas, trabajos o afines a diferentes almacenes, minimizando costos y evitando sobrecargas.\n",
        "\n",
        "Esta cuestión surge en numerosos entornos industriales y comerciales, donde empresas de logística, distribución y almacenamiento deben decidir cómo asignar sus mercancías.\n",
        "\n",
        "Una mala asignación puede generar ineficiencias, sobrecostos y retrasos, impactando la rentabilidad y el servicio al cliente.\n",
        "\n",
        "Este problema es relevante porque implica la exploración de algoritmos de optimización heurística, como el recocido simulado, para encontrar soluciones eficientes en problemas de gran escala.\n",
        "\n",
        "De igual forma, una distribución óptima de carga puede reducir costos de operación, optimizar el uso de recursos y mejorar la productividad de los almacenes.\n",
        "\n",
        "Para este proyecto se buscó desarrollar un modelo donde cada tarea tiene una carga y una prioridad, cada almacén tiene una capacidad máxima, y existen restricciones sobre qué tareas pueden ser asignadas a qué almacenes (intentando así, hacerlo lo más cercano posible a una situación en el mundo real).\n",
        "\n",
        "Utilizando el algoritmo de recocido simulado con dichas restricciones, el objetivo es minimizar el costo total del sistema, equilibrando la carga entre almacenes y penalizando asignaciones ineficientes."
      ],
      "metadata": {
        "id": "VOYEZqYo1qT0"
      }
    },
    {
      "cell_type": "markdown",
      "source": [
        "## 1) Se importan las librerías que se usarán a lo largo del proyecto:"
      ],
      "metadata": {
        "id": "4SSHjcfg2Uuh"
      }
    },
    {
      "cell_type": "code",
      "execution_count": null,
      "metadata": {
        "id": "xRQ7MnLBTTMI"
      },
      "outputs": [],
      "source": [
        "import random\n",
        "import math"
      ]
    },
    {
      "cell_type": "markdown",
      "source": [
        "## 2) Se define una función, \"pedir_numeros_enteros\":"
      ],
      "metadata": {
        "id": "iQThQpIX2lH6"
      }
    },
    {
      "cell_type": "markdown",
      "source": [
        "El propósito de esta función será llamarla (más adelante) para indicarle al usuario que ingrese los datos solicitados (no. de almacenes, no. de tareas), dejándolo a su elección."
      ],
      "metadata": {
        "id": "iEewqxME2wuM"
      }
    },
    {
      "cell_type": "code",
      "source": [
        "def pedir_numeros_enteros(mensaje, minimo=1):\n",
        "    # Hasta que el usuario ingrese un número correcto:\n",
        "    while True:\n",
        "        try:\n",
        "            # Se le imprimirá un mensaje, pidiendo que ingrese un número.\n",
        "            # Luego, se convertirá a un número entero.\n",
        "            numero_entero = int(input(mensaje))\n",
        "\n",
        "            # Si el número es menor que el parámetro \"mínimo\"...\n",
        "            if numero_entero < minimo:\n",
        "                print(f\"Por favor, ingrese un número mayor o igual a {minimo}.\") # Aviso al usuario.\n",
        "            else:\n",
        "                # Sino, lo regresa.\n",
        "                return numero_entero\n",
        "\n",
        "        # Si el usuario escribió algo que no se puede convertir a número:\n",
        "        except ValueError: # Manejo de excepciones.\n",
        "            print(\"Eso no es un número válido. Intente de nuevo.\") # Se le pedirá al usuario un número válido."
      ],
      "metadata": {
        "id": "5SsjVlF1TiZ7"
      },
      "execution_count": null,
      "outputs": []
    },
    {
      "cell_type": "markdown",
      "source": [
        "## 3) Se define una función, \"pedir_lista_numeros_enteros\":"
      ],
      "metadata": {
        "id": "uvOyGuC74OJ3"
      }
    },
    {
      "cell_type": "markdown",
      "source": [
        "Similar al anterior, el propósito de esta función será llamarla (más adelante) para indicarle al usuario que ingrese los datos solicitados, en forma de lista (capacidad de cada almacen, no. de carga por tarea, no. de prioridad por tarea), dejándolo a su elección."
      ],
      "metadata": {
        "id": "cZn7BPMr4YF5"
      }
    },
    {
      "cell_type": "code",
      "source": [
        "def pedir_lista_numeros_enteros(mensaje, cantidad_numeros_pedida):\n",
        "    # Hasta que el usuario ingrese una lista válida:\n",
        "    while True:\n",
        "        try:\n",
        "            # Se pide al usuario que ingrese los números, separados por comas:\n",
        "            numeros_introducidos_usuario = input(mensaje)\n",
        "\n",
        "            # Se separa donde haya comas y se convierte cada elemento en un número entero:\n",
        "            # Ejemplo: Ingresar \"3,5,9\" ó \"3, 5, 9\" se convierte en [3, 5, 9]\n",
        "            lista_numeros_enteros = list(map(int, numeros_introducidos_usuario.split(\",\")))\n",
        "\n",
        "            # Se revisa si se ingresó la cantidad de números solicitada:\n",
        "            if len(lista_numeros_enteros) != cantidad_numeros_pedida:\n",
        "                # Si se escribió más o menos números:\n",
        "                print(f\"Ingrese exactamente {cantidad_numeros_pedida} números.\")\n",
        "            else:\n",
        "                # Si la cantidad es correcta, se regresa la lista de números:\n",
        "                return lista_numeros_enteros\n",
        "\n",
        "        except ValueError: # Manejo de excepciones\n",
        "            print(\"Asegúrese de escribir solo números separados por comas.\")"
      ],
      "metadata": {
        "id": "P1Y86cRATmX1"
      },
      "execution_count": null,
      "outputs": []
    },
    {
      "cell_type": "markdown",
      "source": [
        "## 4) Generación y asignación de restricciones a las tareas:"
      ],
      "metadata": {
        "id": "G5bvEn5CNIOR"
      }
    },
    {
      "cell_type": "markdown",
      "source": [
        "**4.1)** Se inicializa \"tabla_visual_restricciones\" como una lista vacía, ahí se guardarán las restricciones.\n",
        "\n",
        "**4.2)** Se declara un \"for\", para iterar sobre cada tarea y asignarle restricciones a cada una.\n",
        "\n",
        "**4.3)** Se elige al azar cuántos almacenes serán permitidos para cada tarea.\n",
        "Con \"random.randint(min_opciones, numero_de_almacenes)\" se selecciona un número aleatorio entre \"min_opciones\" y \"numero_de_almacenes\", esto para determinar el número de almacenes válidos para la tarea.\n",
        "\n",
        "Luego, se eligen dichos almacenes de forma aleatoria con \"random.sample(range(numero_de_almacenes), cantidad)\", seleccionando una cantidad de almacenes al azar de la lista: [0, 1, ..., numero_de_almacenes - 1]\n",
        "\n",
        "Ejemplo: Si hay 5 almacenes ([0, 1, 2, 3, 4]) y random.randint(2, 5) elige 3,\n",
        "entonces opciones_de_almacenes podría ser [1, 3, 4] (almacenes permitidos para la tarea).\n",
        "\n",
        "**4.4)** Se define una lista booleana para indicar qué almacenes son válidos para cada tarea.\n",
        "\n",
        "Para cada almacén \"j\": Si \"j\" está en \"opciones_de_almacenes\", se guarda True (Permitido), sino False (Prohibido).\n",
        "\n",
        "Ejemplo: Si opciones_de_almacenes = [1, 3, 4], entonces: restriccion = [False, True, False, True, True]\n",
        "\n",
        "**4.5)** Se guarda la lista \"restriccion\" en \"tabla_visual_restricciones\". Al final debe regresar una matriz de restricciones."
      ],
      "metadata": {
        "id": "l0hrku8bflw0"
      }
    },
    {
      "cell_type": "code",
      "source": [
        "# 4.1) Definición de la función y la lista de restricciones:\n",
        "# Se define una función, \"generar_restricciones\".\n",
        "# Indica a qué almacenes puede ir cada tarea, y no todas las tareas pueden ir a todos los almacenes.\n",
        "# Parámetros: min_opciones: Es el número mínimo de almacenes que cada tarea puede elegir.\n",
        "def generar_restricciones(numero_de_tareas, numero_de_almacenes, min_opciones=2):\n",
        "    # Se define una lista vacía, \"tabla_visual_restricciones\".\n",
        "    # Se llenará con una lista para cada tarea (indica a qué almacenes podría ir):\n",
        "    tabla_visual_restricciones = []\n",
        "\n",
        "    # 4.2) Generar restricciones para cada tarea:\n",
        "    # Iterará sobre cada tarea para asignarle restricciones:\n",
        "    for _ in range(numero_de_tareas):\n",
        "\n",
        "        # 4.3) Seleccionar aleatoriamente almacenes permitidos:\n",
        "        # Se elige al azar un grupo de almacenes permitidos para la tarea actual.\n",
        "        # range(numero_de_almacenes): Define una lista con todos los almacenes disponibles. Ejemplo: [0, 1, 2, 3, 4] (si hay 5 almacenes).\n",
        "        # random.randint(min_opciones, numero_de_almacenes): Se elige el número aleatorio de almacenes permitidos.\n",
        "        # random.sample(...): Se selecciona al azar esa cantidad de almacenes de la lista.\n",
        "        # Resultado: \"opciones_de_almacenes\" será una lista como \"[1, 3]\" o \"[0, 2, 4]\".\n",
        "        opciones_de_almacenes = random.sample(range(numero_de_almacenes), random.randint(min_opciones, numero_de_almacenes))\n",
        "\n",
        "        # 4.4) Crear una lista de restricciones para la tarea:\n",
        "        # Se define una lista booleana por cada almacén:\n",
        "        # Recorre todos los almacenes (\"j\" va de 0 hasta el número de almacenes).\n",
        "        # Si el almacén \"j\" está en las opciones permitidas para la tarea, será \"True\". Sino, \"False\".\n",
        "        # Ejemplo: Hay 5 almacenes y las opciones son [1, 3], la lista sería: [False, True, False, True, False]\n",
        "        restriccion = [j in opciones_de_almacenes for j in range(numero_de_almacenes)]\n",
        "\n",
        "        # 4.5) Agregar la restricción de la tarea a la \"tabla\":\n",
        "        # Se añade la lista que indica de a dónde puede ir la tarea a la lista general \"restricciones\".\n",
        "        # Después de todas las iteraciones del ciclo, se tendrá una lista de listas.\n",
        "        # Cada sublista dice qué almacenes son válidos para cada tarea.\n",
        "        tabla_visual_restricciones.append(restriccion)\n",
        "    # Se regresa todas las restricciones generadas, lista por lista:\n",
        "    return tabla_visual_restricciones"
      ],
      "metadata": {
        "id": "Me-fqdGFTrdn"
      },
      "execution_count": null,
      "outputs": []
    },
    {
      "cell_type": "markdown",
      "source": [
        "## 5) Cálculo del costo de la solución:"
      ],
      "metadata": {
        "id": "WvjJ_l3fVZ4s"
      }
    },
    {
      "cell_type": "markdown",
      "source": [
        "**5.1)** Se ordenan los datos necesarios (No. de almacenes, capacidad por almacen, no. de tareas, carga de cada tarea, prioridad de cada tarea).\n",
        "\n",
        "**5.2)** Se obtienen los resultados de las sumas de las cargas y prioridades (actuales) por cada almacen.\n",
        "\n",
        "**5.3)** Penalización por sobrecarga:\n",
        "\n",
        "Se inicializa \"sobrecarga_almacen\" en 0.\n",
        "\n",
        "Después, se revisa si hay almacenes que hayan excedido su capacidad, mediante:\n",
        "\"exceso = max(0, carga_por_almacen[i] - capacidad_por_almacen[i])\", para cada almácen. Una vez hecha la resta, se elegirá al número mayor.\n",
        "\n",
        "Luego, se suma y guarda por cada almácen su sobrecarga, mediante: \"sobrecarga_almacen += exceso * prioridad_por_almacen[i]\".\n",
        "\n",
        "Finalmente, se aplica: penalizacion_sobrecarga = alpha * sobrecarga_almacen\n",
        "\n",
        "**5.4)** Penalización por desbalance de carga (varianza):\n",
        "\n",
        "Primero, se calcula la media de las sumas de las cargas de las tareas de cada almacen.\n",
        "\n",
        "Luego, se calcula la varianza de eso mismo.\n",
        "\n",
        "Para después: penalizacion_desbalance = beta * varianza\n",
        "\n",
        "**5.5)** Obtenemos el costo total de la solución actual:\n",
        "costo_total = penalizacion_sobrecarga + penalizacion_desbalance\n",
        "\n",
        "Mientras más elevado sea el valor de esto, quiere decir que hay más desbalance en la distribución de las tareas en los almacenes.\n",
        "\n",
        "Empezará arrojando costos altos, y convergerá a medida que se encuentre la solución óptima, devolviendo así, el menor costo total posible."
      ],
      "metadata": {
        "id": "gQNs0chfMkj3"
      }
    },
    {
      "cell_type": "code",
      "source": [
        "# Función de costo con restricciones, prioridades, balanceo y penalización por sobrecarga:\n",
        "\n",
        "# Se define una función, \"calcular_costo_con_restricciones\":\n",
        "# Toma un estado (forma de repartir tareas entre almacenes) y calcula qué tan buena o mala es, usando \"costo\".\n",
        "# Un costo bajo es mejor. Si la solución es inválida, regresa un número enorme.\n",
        "\n",
        "# Parámetros:\n",
        "# almacen_asignado: A qué almacén se asignó cada tarea (una lista).\n",
        "# tabla_visual_restricciones: Qué tareas pueden ir a qué almacenes.\n",
        "# \"alpha\" y \"beta\": Son pesos (números que dicen cuánto importa una cosa u otra).\n",
        "# penalizacion_invalida: 1e9 = mil millones, se devuelve cuando una solución rompe las reglas.\n",
        "def calcular_costo_con_restricciones(almacen_asignado, carga_por_tarea, capacidad_por_almacen, prioridad_por_tarea, tabla_visual_restricciones, alpha=10, beta=1, penalizacion_invalida=1e9):\n",
        "\n",
        "    # 5.1)\n",
        "    # Se guarda cuántos almacenes hay:\n",
        "    numero_de_almacenes = len(capacidad_por_almacen)\n",
        "\n",
        "    # Estas dos listas empiezan con ceros:\n",
        "    # Calculará el total de carga de tareas que hay en cada almacén.\n",
        "    carga_por_almacen = [0] * numero_de_almacenes\n",
        "    # Calculará el total de las prioridades de las tareas que van a cada almacén:\n",
        "    prioridad_por_almacen = [0] * numero_de_almacenes\n",
        "    # Para que las tareas más importantes generen más penalización, si hay errores.\n",
        "\n",
        "    # 5.2)\n",
        "    # Iterará sobre cada tarea (por su índice) y el almacén al que fue asignada:\n",
        "    for indice_tarea, almacen in enumerate(almacen_asignado):\n",
        "        # Verifica si la tarea fue enviada a un almacén prohibido.\n",
        "        # Si la tarea no puede ir a ese almacén\n",
        "        if not tabla_visual_restricciones[indice_tarea][almacen]:\n",
        "            # se cancela todo y regresa la penalización de mil millones como costo, junto con None:\n",
        "            return penalizacion_invalida, None  # solución inválida\n",
        "\n",
        "        # Si la tarea sí está bien asignada:\n",
        "        # Se suma su carga al almacén correspondiente.\n",
        "        carga_por_almacen[almacen] += carga_por_tarea[indice_tarea]\n",
        "        # Se suma su prioridad también a ese almacén correspondiente.\n",
        "        prioridad_por_almacen[almacen] += prioridad_por_tarea[indice_tarea]\n",
        "\n",
        "    # 5.3)\n",
        "    # Empieza el cálculo de la sobrecarga (cuánto se pasó un almacén de su capacidad):\n",
        "    sobrecarga_almacen = 0\n",
        "    # Iterará sobre cada almacén:\n",
        "    for i in range(numero_de_almacenes):\n",
        "        # Si la carga total del almacén es mayor que su capacidad, se calcula el exceso:\n",
        "        exceso = max(0, carga_por_almacen[i] - capacidad_por_almacen[i])\n",
        "        # Ese exceso se multiplica por la prioridad total del almacén:\n",
        "        sobrecarga_almacen += exceso * prioridad_por_almacen[i]\n",
        "    # Así, si el exceso es grande y hay tareas importantes ahí, la penalización será más fuerte.\n",
        "\n",
        "    # Se calcula cuánto \"cuesta\" la sobrecarga, multiplicándola por alpha.\n",
        "    # alpha es un peso que dice cuánto queremos evitar pasarnos de capacidad.\n",
        "    penalizacion_sobrecarga = alpha * sobrecarga_almacen\n",
        "\n",
        "    # 5.4)\n",
        "    # Para calcular el promedio de carga entre todos los almacenes:\n",
        "    promedio_carga_almacenes = sum(carga_por_almacen) / numero_de_almacenes\n",
        "    # Para calcular qué tan desbalanceada está la carga entre los almacenes:\n",
        "    # Si todos tienen cargas parecidas, la varianza será baja.\n",
        "    # Si unos están muy llenos y otros casi vacíos, será alta.\n",
        "    varianza = sum((c - promedio_carga_almacenes)**2 for c in carga_por_almacen) / numero_de_almacenes\n",
        "    # Calcula la penalización por desbalance:\n",
        "    # beta dice qué tanto importa ese desbalance.\n",
        "    penalizacion_desbalance = beta * varianza\n",
        "\n",
        "    # 5.5)\n",
        "    # Se suma las dos penalizaciones para obtener el costo total de la solución:\n",
        "    costo_total_solucion = penalizacion_sobrecarga + penalizacion_desbalance\n",
        "    # Retorna el costo total (qué tan buena o mala es la solución)\n",
        "    # y la lista de cargas por almacén (para ver cómo quedaron repartidas las tareas):\n",
        "    return costo_total_solucion, carga_por_almacen"
      ],
      "metadata": {
        "id": "rPji8Ly-Tvv9"
      },
      "execution_count": null,
      "outputs": []
    },
    {
      "cell_type": "markdown",
      "source": [
        "## 6) Implementación del recocido simulado:"
      ],
      "metadata": {
        "id": "i1P40eR6C3-4"
      }
    },
    {
      "cell_type": "markdown",
      "source": [
        "**6.1)** El objetivo es asignar cada tarea a un almacén válido según \"tabla_visual_restricciones\".\n",
        "\n",
        "Para cada tarea:\n",
        "\n",
        "Se obtiene la lista de almacenes donde puede estar (tabla_visual_restricciones[i]).\n",
        "\n",
        "Se elige un almacén permitido de forma aleatoria con random.choice(...).\n",
        "\n",
        "Ejemplo: Si hay 3 almacenes y la tabla_visual_restricciones de la tarea 0 es [False, True, True], significa que la tarea solo puede ir a los almacenes 1 o 2, y se elige uno de estos al azar.\n",
        "\n",
        "**6.2)** Se calcula \"solucion_actual\" usando \"calcular_costo_con_restricciones(...)\".\n",
        "\n",
        "Luego:\n",
        "\n",
        "\"costo_actual\" almacena ese valor.\n",
        "\n",
        "\"mejor_solucion\" se inicializa con \"solucion_actual\".\n",
        "\n",
        "\"mejor_costo\" se inicia con \"costo_actual\".\n",
        "\n",
        "\"historial_costos\" guarda la evolución de costos, comenzando con costo_actual.\n",
        "\n",
        "**6.3)** Se inicia el \"while\" donde la temperatura se reduce progresivamente.\n",
        "\n",
        "**6.4)** El \"for\" repetirá varias iteraciones por temperatura, para buscar mejores soluciones, permitiendo probar múltiples modificaciones antes de bajar la temperatura.\n",
        "\n",
        "**6.5)** Se elige una tarea al azar.\n",
        "\n",
        "Se revisan los almacenes válidos diferentes al actual, y se elige al azar uno de estos.\n",
        "\n",
        "Si no hay almacenes válidoss, se salta a la siguiente iteración sin cambios.\n",
        "\n",
        "**6.6)** Si hay almacenes válidos, se asigna la tarea a uno de estos, al azar.\n",
        "\n",
        "Se calcula el nuevo costo.\n",
        "\n",
        "Se obtiene la diferencia de costos.\n",
        "\n",
        "Interpretación de delta:\n",
        "Si delta < 0, significa que la nueva solución es mejor; sino, entonces la nueva solución es peor.\n",
        "\n",
        "**6.7)** Si la nueva solución es mejor, se acepta; pero, si es peor, se acepta a veces con una probabilidad que depende de la temperatura:\n",
        "\n",
        "Si la temperatura es alta, \"math.exp(-delta / temperatura)\" es grande, permite aceptar soluciones malas y evitar quedarse atrapado en mínimos locales; y si la temperatura es baja, esta probabilidad disminuye.\n",
        "\n",
        "Si se acepta, la nueva solución reemplaza la actual.\n",
        "\n",
        "**6.8)** Cada iteración baja la temperatura multiplicándola por alfa.\n",
        "\n",
        "Ejemplo: Si temperatura = 1000, tras una iteración se vuelve 950, luego 902.5, y así...\n",
        "\n",
        "Cuando \"temperatura < temperatura_final\", el \"while\" termina, y el algoritmo regresa la solución óptima, su costo final."
      ],
      "metadata": {
        "id": "u9b7rIY7qXf_"
      }
    },
    {
      "cell_type": "code",
      "source": [
        "# Se define una función, \"recocido_simulado_restringido\".\n",
        "# Encuentra una buena forma de repartir tareas en almacenes (solución óptima), respetando las restricciones:\n",
        "\n",
        "# Parámetros:\n",
        "# temperatura_inicial: Temperatura inicial del algoritmo.\n",
        "# temperatura_final: Temperatura final.\n",
        "# alfa: Cuánto baja la temperatura en cada ronda.\n",
        "# iteraciones_por_temperatura: No. de intentos que se hacen por cada nivel de temperatura.\n",
        "def recocido_simulado_restringido(carga_por_tarea, capacidad_por_almacen, prioridad_por_tarea, tabla_visual_restricciones,\n",
        "                                  temperatura_inicial=1000, temperatura_final=1, alfa=0.95, iteraciones_por_temperatura=100):\n",
        "    # Para guardar cuántas tareas y cuántos almacenes hay:\n",
        "    numero_de_tareas = len(carga_por_tarea)\n",
        "    numero_de_almacenes = len(capacidad_por_almacen)\n",
        "\n",
        "    # 6.1) Se genera una solución inicial válida:\n",
        "    solucion_actual = [\n",
        "        # Para cada tarea, se elige al azar un almacén que sí esté permitido (según sus restricciones):\n",
        "        random.choice([j for j in range(numero_de_almacenes) if tabla_visual_restricciones[i][j]])\n",
        "        for i in range(numero_de_tareas)\n",
        "    ]\n",
        "\n",
        "    # 6.2) Se evalua está solución inicial:\n",
        "    # Se calcula cuánto cuesta esa primera solución (qué tan buena o mala es):\n",
        "    costo_actual, _ = calcular_costo_con_restricciones(solucion_actual, carga_por_tarea, capacidad_por_almacen, prioridad_por_tarea, tabla_visual_restricciones)\n",
        "    # Al ser la 1ra solución, se guarda como la mejor encontrada hasta ahora:\n",
        "    mejor_solucion = solucion_actual[:]\n",
        "    # Junto a su costo, como el mejor hasta ahora:\n",
        "    mejor_costo = costo_actual\n",
        "    # Se empieza a guardar el historial del costo en cada ronda:\n",
        "    historial_costos = [costo_actual]\n",
        "\n",
        "    # 6.3) Enfriamiento:\n",
        "    # Se inicia la temperatura. Mientras esté \"alta\", el algoritmo se permite \"equivocarse\" un poco, para explorar nuevas soluciones:\n",
        "    temperatura = temperatura_inicial\n",
        "\n",
        "    # El \"while\" se repetirá hasta que la temperatura \"baje\" lo suficiente.\n",
        "    # Simulando así el recocido, como si el sistema se fuese enfriando lentamente:\n",
        "    while temperatura > temperatura_final:\n",
        "\n",
        "        # 6.4) Exploración de nuevas soluciones:\n",
        "        # El \"for\" hará varios intentos por cada temperatura.\n",
        "        # Más intentos = más posibilidades de encontrar algo mejor:\n",
        "        for _ in range(iteraciones_por_temperatura):\n",
        "            # Se hace una copia de la solución actual para modificarla, sin perder la original:\n",
        "            nueva_solucion = solucion_actual[:]\n",
        "\n",
        "            # 6.5) Modificar la solución:\n",
        "            # Se elige una tarea al azar, para intentar cambiarla de almacén:\n",
        "            cambiar_tarea_de_almacen = random.randint(0, numero_de_tareas - 1)\n",
        "\n",
        "            # Para considerar solo almacenes válidos distintos al actual:\n",
        "            # Se buscarán almacenes válidos y diferentes al actual, en donde esa tarea podría ir, evitando que se quede igual:\n",
        "            opciones_validas = [j for j in range(numero_de_almacenes) if tabla_visual_restricciones[cambiar_tarea_de_almacen][j] and j != solucion_actual[cambiar_tarea_de_almacen]]\n",
        "            # En el caso de no haber...\n",
        "            if not opciones_validas:\n",
        "                continue  # No hay cambio válido para esta tarea, y salta a la sig.\n",
        "\n",
        "            # 6.6) Se evalua la nueva solución:\n",
        "            # Sí hay opciones, se elige una al azar y se asigna esa tarea a ese nuevo almacén:\n",
        "            nueva_solucion[cambiar_tarea_de_almacen] = random.choice(opciones_validas)\n",
        "\n",
        "            # Se calcula el nuevo costo de esta solución modificada:\n",
        "            nuevo_costo, _ = calcular_costo_con_restricciones(nueva_solucion, carga_por_tarea, capacidad_por_almacen, prioridad_por_tarea, tabla_visual_restricciones)\n",
        "            # Y la diferencia (delta) entre la nueva y la anterior:\n",
        "            delta = nuevo_costo - costo_actual\n",
        "\n",
        "            # 6.7) Aceptar o rechazar la nueva solución:\n",
        "            # Se decide si se acepta el cambio o no:\n",
        "            # Si el nuevo costo es menor (mejor), sí se acepta.\n",
        "            # Si es peor, a veces también se acepta, dependiendo de la temperatura.\n",
        "            if delta < 0 or random.uniform(0, 1) < math.exp(-delta / temperatura):\n",
        "                # Se actualiza la solución actual si fue aceptada:\n",
        "                solucion_actual = nueva_solucion\n",
        "                costo_actual = nuevo_costo\n",
        "\n",
        "                # Si esta nueva solución es la mejor de todas hasta ahora...\n",
        "                if nuevo_costo < mejor_costo:\n",
        "                    # Se guarda:\n",
        "                    mejor_solucion = nueva_solucion\n",
        "                    mejor_costo = nuevo_costo\n",
        "\n",
        "        # Al final de esta ronda de temperatura, se guarda el costo actual en la lista del historial:\n",
        "        historial_costos.append(costo_actual)\n",
        "\n",
        "        # 6.8) Reducir la temperatura:\n",
        "        # Se baja la temperatura, multiplicándola por alfa (Ejemplo: si alfa es 0.95, la temperatura bajará un 5%):\n",
        "        temperatura *= alfa\n",
        "\n",
        "    # Retorna:\n",
        "    # La mejor forma encontrada de repartir las tareas.\n",
        "    # Su costo (qué tan buena fue).\n",
        "    # El historial de costos.\n",
        "    return mejor_solucion, mejor_costo, historial_costos"
      ],
      "metadata": {
        "id": "5w2xeZk3T1EU"
      },
      "execution_count": null,
      "outputs": []
    },
    {
      "cell_type": "markdown",
      "source": [
        "## Ejemplos para probar el funcionamiento del código:"
      ],
      "metadata": {
        "id": "Q8bIjv9t1J80"
      }
    },
    {
      "cell_type": "markdown",
      "source": [
        "1)\n",
        "\n",
        "¿Cuántos almacenes hay?: 5\n",
        "\n",
        "Ingrese la capacidad de cada uno: 220, 298, 101, 151, 191\n",
        "\n",
        "\n",
        "¿Cuántas tareas deseas asignar?: 100\n",
        "\n",
        "Ingrese la carga de cada tarea: 9, 7, 5, 5, 1, 4, 6, 1, 4, 9, 2, 5, 7, 2, 1, 10, 9, 8, 8, 3, 7, 5, 4, 6, 8, 1, 5, 9, 10, 1, 1, 9, 2, 6, 2, 6, 9, 7, 4, 2, 9, 2, 6, 10, 9, 2, 7, 7, 8, 9, 8, 4, 2, 6, 5, 9, 10, 1, 3, 6, 9, 10, 3, 4, 9, 3, 9, 6, 5, 10, 2, 4, 1, 3, 9, 5, 1, 8, 6, 2, 3, 10, 3, 3, 2, 5, 7, 8, 1, 2, 3, 1, 8, 6, 3, 5, 3, 10, 8, 6\n",
        "\n",
        "Ingrese la prioridad de cada tarea: 3, 4, 5, 1, 5, 1, 5, 1, 3, 4, 1, 3, 1, 2, 2, 2, 2, 1, 5, 1, 1, 2, 1, 3, 5, 3, 5, 2, 5, 5, 2, 5, 1, 5, 1, 1, 3, 4, 4, 3, 4, 2, 3, 3, 1, 4, 3, 5, 1, 4, 5, 5, 2, 1, 2, 2, 1, 4, 3, 3, 4, 1, 5, 4, 1, 1, 5, 3, 1, 2, 2, 3, 5, 2, 5, 5, 1, 5, 2, 1, 1, 1, 5, 3, 3, 3, 2, 2, 3, 5, 1, 3, 2, 4, 3, 5, 3, 4, 2, 5\n",
        "\n",
        "\n",
        "Costo total de la solución encontrada (lo que se espera): 11.76"
      ],
      "metadata": {
        "id": "CeyNC2iT1P0A"
      }
    },
    {
      "cell_type": "markdown",
      "source": [
        "2)\n",
        "\n",
        "¿Cuántos almacenes hay?: 2\n",
        "\n",
        "Ingrese la capacidad de cada uno: 74, 26\n",
        "\n",
        "\n",
        "¿Cuántas tareas deseas asignar?: 10\n",
        "\n",
        "Ingrese la carga de cada tarea: 1, 5, 2, 10, 3, 4, 9, 8, 10, 9\n",
        "\n",
        "Ingrese la prioridad de cada tarea: 4, 2, 4, 5, 2, 2, 3, 2, 5, 2\n",
        "\n",
        "\n",
        "Costo total de la solución encontrada (lo que se espera): 20.25"
      ],
      "metadata": {
        "id": "iN1DhuFGLjlz"
      }
    },
    {
      "cell_type": "code",
      "source": [
        "#7:\n",
        "\n",
        "# Para pedir los datos al usuario:\n",
        "numero_de_almacenes = pedir_numeros_enteros(\"¿Cuántos almacenes hay?: \")\n",
        "capacidad_por_almacen = pedir_lista_numeros_enteros(f\"Ingrese la capacidad de cada uno de los {numero_de_almacenes} almacenes, separados por comas (Ej: 50,50,50): \", numero_de_almacenes)\n",
        "\n",
        "numero_de_tareas = pedir_numeros_enteros(\"\\n¿Cuántas tareas deseas asignar?: \")\n",
        "carga_por_tarea = pedir_lista_numeros_enteros(f\"Ingrese la carga de cada una de las {numero_de_tareas} tareas, separados por comas (Ej: 2,5,6,...): \", numero_de_tareas)\n",
        "prioridad_por_tarea = pedir_lista_numeros_enteros(f\"Ingrese la prioridad (1-5) de cada tarea, separados por comas (Ej: 1,3,4,...): \", numero_de_tareas)\n",
        "\n",
        "# Llamada a la función, \"generar_restricciones()\", crea una tabla de qué almacenes pueden recibir qué tareas:\n",
        "tabla_visual_restricciones = generar_restricciones(numero_de_tareas, numero_de_almacenes)"
      ],
      "metadata": {
        "colab": {
          "base_uri": "https://localhost:8080/"
        },
        "id": "xhDM0IZHT7xQ",
        "outputId": "f18d1d4a-a0cd-47ec-bcc3-3db809799a3b"
      },
      "execution_count": null,
      "outputs": [
        {
          "name": "stdout",
          "output_type": "stream",
          "text": [
            "¿Cuántos almacenes hay?: 2\n",
            "Ingrese la capacidad de cada uno de los 2 almacenes, separados por comas (Ej: 50,50,50): 50,60\n",
            "\n",
            "¿Cuántas tareas deseas asignar?: 12\n",
            "Ingrese la carga de cada una de las 12 tareas, separados por comas (Ej: 2,5,6,...): 5, 6, 8, 10, 15, 7, 8, 9, 8, 8, 5, 10\n",
            "Ingrese la prioridad (1-5) de cada tarea, separados por comas (Ej: 1,3,4,...): 1, 2, 3, 4, 5, 1, 2, 3, 4, 5, 1, 2\n"
          ]
        }
      ]
    },
    {
      "cell_type": "markdown",
      "source": [
        "## Resultados:"
      ],
      "metadata": {
        "id": "U8A7rkCyHYuh"
      }
    },
    {
      "cell_type": "code",
      "source": [
        "#8:\n",
        "\n",
        "# Llamada a la función, \"recocido_simulado_restringido()\", para encontrar la mejor solución:\n",
        "# mejor_solucion: Mejor forma de repartir las tareas que se encontró.\n",
        "# mejor_costo: Qué tan buena es esa solución (representación del costo).\n",
        "# historial: Lista con la evolución de los costos, para ver cómo mejoró con el tiempo.\n",
        "mejor_solucion, mejor_costo, historial = recocido_simulado_restringido(\n",
        "    carga_por_tarea, capacidad_por_almacen, prioridad_por_tarea, tabla_visual_restricciones\n",
        ")\n",
        "\n",
        "# Llamada a la función, \"calcular_costo_con_restricciones()\", para las cargas finales de cada almacén:\n",
        "# El \"_\" significa algo como \"no me importa este valor\", porque solo interesa \"cargas_finales\".\n",
        "_, carga_final = calcular_costo_con_restricciones(mejor_solucion, carga_por_tarea, capacidad_por_almacen, prioridad_por_tarea, tabla_visual_restricciones)\n",
        "\n",
        "print(\"\\nCARGA FINAL POR ALMACÉN:\")\n",
        "for i, carga in enumerate(carga_final):\n",
        "    print(f\"  Almacén {i}: carga total = {carga} / capacidad = {capacidad_por_almacen[i]}\")\n",
        "\n",
        "print(f\"\\nCosto final de la mejor solución encontrada: {mejor_costo}\")"
      ],
      "metadata": {
        "colab": {
          "base_uri": "https://localhost:8080/"
        },
        "id": "u05Z4GRGUBG2",
        "outputId": "4961c04b-7815-4fdb-e496-dcd02ce745d5"
      },
      "execution_count": null,
      "outputs": [
        {
          "output_type": "stream",
          "name": "stdout",
          "text": [
            "\n",
            "CARGA FINAL POR ALMACÉN:\n",
            "  Almacén 0: carga total = 49 / capacidad = 50\n",
            "  Almacén 1: carga total = 50 / capacidad = 60\n",
            "\n",
            "Costo final de la mejor solución encontrada: 0.25\n"
          ]
        }
      ]
    },
    {
      "cell_type": "code",
      "source": [
        "# Resumen general:\n",
        "\n",
        "print(\"Capacidad de almacenes:\", capacidad_por_almacen) # Para imprimir la capacidad de cada almacén.\n",
        "print(\"Carga (peso) de cada tarea:\", carga_por_tarea) # Para imprimir la carga (el peso) de cada tarea.\n",
        "print(\"Prioridad de cada tarea:\", prioridad_por_tarea) # Para imprimir la importancia de cada tarea.\n",
        "print(\"Restricciones:\", tabla_visual_restricciones) # Para imprimir una lista de cada tarea, en dónde se muestra en qué almacen pudo haber ido.\n",
        "print(\"Mejor costo:\", mejor_costo) # Para imprimir el costo de la solución encontrada."
      ],
      "metadata": {
        "colab": {
          "base_uri": "https://localhost:8080/"
        },
        "id": "2meLxSZiYBkD",
        "outputId": "b7c69d25-5d1f-4779-c180-f5b621b0ae85"
      },
      "execution_count": null,
      "outputs": [
        {
          "output_type": "stream",
          "name": "stdout",
          "text": [
            "Capacidad de almacenes: [50, 60]\n",
            "Carga (peso) de cada tarea: [5, 6, 8, 10, 15, 7, 8, 9, 8, 8, 5, 10]\n",
            "Prioridad de cada tarea: [1, 2, 3, 4, 5, 1, 2, 3, 4, 5, 1, 2]\n",
            "Restricciones: [[True, True], [True, True], [True, True], [True, True], [True, True], [True, True], [True, True], [True, True], [True, True], [True, True], [True, True], [True, True]]\n",
            "Mejor costo: 0.25\n"
          ]
        }
      ]
    },
    {
      "cell_type": "code",
      "source": [
        "# A partir de aquí, TODO para imprimir la información general útil:\n",
        "\n",
        "print(\"ALMACENES (con sus respectivas capacidades):\")\n",
        "for i, cap in enumerate(capacidad_por_almacen):\n",
        "    print(f\"  Almacén {i}: {cap}\")"
      ],
      "metadata": {
        "colab": {
          "base_uri": "https://localhost:8080/"
        },
        "id": "9bSRdytTYS_T",
        "outputId": "6ff5634e-dd7d-457d-ee6f-7e0d181195f9"
      },
      "execution_count": null,
      "outputs": [
        {
          "output_type": "stream",
          "name": "stdout",
          "text": [
            "ALMACENES (con sus respectivas capacidades):\n",
            "  Almacén 0: 50\n",
            "  Almacén 1: 60\n"
          ]
        }
      ]
    },
    {
      "cell_type": "code",
      "source": [
        "print(\"TAREAS (con su respectiva carga (peso) ):\")\n",
        "for i, peso in enumerate(carga_por_tarea):\n",
        "    print(f\"  Tarea {i}: {peso}\")"
      ],
      "metadata": {
        "colab": {
          "base_uri": "https://localhost:8080/"
        },
        "id": "00wTQsALYVAv",
        "outputId": "a55ce159-b027-44d2-b970-440d018afd2f"
      },
      "execution_count": null,
      "outputs": [
        {
          "output_type": "stream",
          "name": "stdout",
          "text": [
            "TAREAS (con su respectiva carga (peso) ):\n",
            "  Tarea 0: 5\n",
            "  Tarea 1: 6\n",
            "  Tarea 2: 8\n",
            "  Tarea 3: 10\n",
            "  Tarea 4: 15\n",
            "  Tarea 5: 7\n",
            "  Tarea 6: 8\n",
            "  Tarea 7: 9\n",
            "  Tarea 8: 8\n",
            "  Tarea 9: 8\n",
            "  Tarea 10: 5\n",
            "  Tarea 11: 10\n"
          ]
        }
      ]
    },
    {
      "cell_type": "code",
      "source": [
        "print(\"TAREAS (con su respectiva prioridad):\")\n",
        "for i, prio in enumerate(prioridad_por_tarea):\n",
        "    print(f\"  Tarea {i}: prioridad {prio}\")"
      ],
      "metadata": {
        "colab": {
          "base_uri": "https://localhost:8080/"
        },
        "id": "Uvd6DvEjYaMP",
        "outputId": "b2308446-622f-4205-af5c-3cd18be4c538"
      },
      "execution_count": null,
      "outputs": [
        {
          "output_type": "stream",
          "name": "stdout",
          "text": [
            "TAREAS (con su respectiva prioridad):\n",
            "  Tarea 0: prioridad 1\n",
            "  Tarea 1: prioridad 2\n",
            "  Tarea 2: prioridad 3\n",
            "  Tarea 3: prioridad 4\n",
            "  Tarea 4: prioridad 5\n",
            "  Tarea 5: prioridad 1\n",
            "  Tarea 6: prioridad 2\n",
            "  Tarea 7: prioridad 3\n",
            "  Tarea 8: prioridad 4\n",
            "  Tarea 9: prioridad 5\n",
            "  Tarea 10: prioridad 1\n",
            "  Tarea 11: prioridad 2\n"
          ]
        }
      ]
    },
    {
      "cell_type": "code",
      "source": [
        "print(\"RESTRICCIONES (si una tarea puede ir a un almacén):\")\n",
        "for i, fila in enumerate(tabla_visual_restricciones):\n",
        "    acceso = [\"O\" if ok else \"X\" for ok in fila]\n",
        "    print(f\"  Tarea {i}: {acceso}\")"
      ],
      "metadata": {
        "colab": {
          "base_uri": "https://localhost:8080/"
        },
        "id": "fDGTPOuyYhKA",
        "outputId": "61672864-2f03-4acf-c6f0-800f34cb1ab3"
      },
      "execution_count": null,
      "outputs": [
        {
          "output_type": "stream",
          "name": "stdout",
          "text": [
            "RESTRICCIONES (si una tarea puede ir a un almacén):\n",
            "  Tarea 0: ['O', 'O']\n",
            "  Tarea 1: ['O', 'O']\n",
            "  Tarea 2: ['O', 'O']\n",
            "  Tarea 3: ['O', 'O']\n",
            "  Tarea 4: ['O', 'O']\n",
            "  Tarea 5: ['O', 'O']\n",
            "  Tarea 6: ['O', 'O']\n",
            "  Tarea 7: ['O', 'O']\n",
            "  Tarea 8: ['O', 'O']\n",
            "  Tarea 9: ['O', 'O']\n",
            "  Tarea 10: ['O', 'O']\n",
            "  Tarea 11: ['O', 'O']\n"
          ]
        }
      ]
    },
    {
      "cell_type": "code",
      "source": [
        "print(\"MEJOR SOLUCIÓN encontrada (Asignación: tarea → almacén):\")\n",
        "for i, almacen in enumerate(mejor_solucion):\n",
        "    print(f\"  Tarea {i} → Almacén {almacen}\")"
      ],
      "metadata": {
        "colab": {
          "base_uri": "https://localhost:8080/"
        },
        "id": "wuxB9cOYYmm7",
        "outputId": "d054ed86-bb0a-416b-f616-8a649fdd04a4"
      },
      "execution_count": null,
      "outputs": [
        {
          "output_type": "stream",
          "name": "stdout",
          "text": [
            "MEJOR SOLUCIÓN encontrada (Asignación: tarea → almacén):\n",
            "  Tarea 0 → Almacén 0\n",
            "  Tarea 1 → Almacén 0\n",
            "  Tarea 2 → Almacén 0\n",
            "  Tarea 3 → Almacén 0\n",
            "  Tarea 4 → Almacén 1\n",
            "  Tarea 5 → Almacén 0\n",
            "  Tarea 6 → Almacén 1\n",
            "  Tarea 7 → Almacén 1\n",
            "  Tarea 8 → Almacén 1\n",
            "  Tarea 9 → Almacén 0\n",
            "  Tarea 10 → Almacén 0\n",
            "  Tarea 11 → Almacén 1\n"
          ]
        }
      ]
    },
    {
      "cell_type": "markdown",
      "source": [
        "## Resultados (gráficamente):"
      ],
      "metadata": {
        "id": "cOlvrnDgVMjK"
      }
    },
    {
      "cell_type": "code",
      "source": [
        "#import numpy as np\n",
        "import matplotlib.pyplot as plt\n",
        "#import seaborn as sns"
      ],
      "metadata": {
        "id": "uT3Qe-cPLBqW"
      },
      "execution_count": null,
      "outputs": []
    },
    {
      "cell_type": "code",
      "source": [
        "# Evolución del costo durante el recocido simulado:\n",
        "plt.plot(historial)\n",
        "plt.title(\"Evolución del costo durante el recocido simulado\")\n",
        "plt.xlabel(\"Iteraciones\")\n",
        "plt.ylabel(\"Costo\")\n",
        "plt.grid(True)\n",
        "plt.show()"
      ],
      "metadata": {
        "colab": {
          "base_uri": "https://localhost:8080/",
          "height": 472
        },
        "id": "45BOHCYiVLIx",
        "outputId": "75b92f92-c50e-4026-b6c8-6c86e6e99925"
      },
      "execution_count": null,
      "outputs": [
        {
          "output_type": "display_data",
          "data": {
            "text/plain": [
              "<Figure size 640x480 with 1 Axes>"
            ],
            "image/png": "[encoded data removed]"
          },
          "metadata": {}
        }
      ]
    }
  ]
}